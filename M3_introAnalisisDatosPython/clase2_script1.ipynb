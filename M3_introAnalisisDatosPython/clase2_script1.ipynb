{
 "cells": [
  {
   "cell_type": "markdown",
   "metadata": {},
   "source": [
    "# Clase #2 (script 1)"
   ]
  },
  {
   "cell_type": "markdown",
   "metadata": {},
   "source": [
    "En este script se ejecutan procedimientos de carga de librerías, carga de datos y generación de tablas de frecuencias. Para este ejemplo se utilizará una base de datos llamada `razas.txt` la cual contiene información categórica sobre razas de perros y sus características.\n",
    "\n",
    "Este script supone que el directorio donde se encuentra almacenado es `C:\\`. Si no es así, recuerde cambiar el valor de la variable `path` para que corresponda con la ubicación del script, y este se encuentre a la misma altura que la carpeta que la carpeta `data`. La carpeta data contiene la base de datos `razas.txt`. \n",
    "\n",
    "Se inicia con la carga de librerías `os` para obtener información del espacio de trabajo y `pandas` para manipular estructuras de datos y analizarlas."
   ]
  },
  {
   "cell_type": "code",
   "execution_count": 1,
   "metadata": {},
   "outputs": [],
   "source": [
    "import os\n",
    "import pandas as pd"
   ]
  },
  {
   "cell_type": "markdown",
   "metadata": {},
   "source": [
    "## Cambiando el valor de la variable `path`\n",
    "\n",
    "El comando `os.getcwd()` retorna la ruta donde se encuentra el directorio de trabajo actual."
   ]
  },
  {
   "cell_type": "code",
   "execution_count": 2,
   "metadata": {},
   "outputs": [
    {
     "data": {
      "text/plain": [
       "'C:\\\\Users\\\\maorj\\\\Documents\\\\Miguel Orjuela\\\\dcd clase2-20181019T051430Z-001\\\\dcd clase2'"
      ]
     },
     "execution_count": 2,
     "metadata": {},
     "output_type": "execute_result"
    }
   ],
   "source": [
    "os.getcwd()"
   ]
  },
  {
   "cell_type": "markdown",
   "metadata": {},
   "source": [
    "Las siguientes instrucciones cambian la ruta del directorio de trabajo actual a la que se especifica en la variable `path`."
   ]
  },
  {
   "cell_type": "code",
   "execution_count": 3,
   "metadata": {},
   "outputs": [],
   "source": [
    "path = \"C:\\\\dcd2018\"\n",
    "os.chdir(path)"
   ]
  },
  {
   "cell_type": "markdown",
   "metadata": {},
   "source": [
    "El comando `os.listdir(path)` muestra los archivos que se encuentran dentro de la ruta que entra como parámetro."
   ]
  },
  {
   "cell_type": "code",
   "execution_count": 4,
   "metadata": {},
   "outputs": [
    {
     "data": {
      "text/plain": [
       "['.ipynb_checkpoints',\n",
       " 'clase2 ex1.py',\n",
       " 'clase2 ex2.py',\n",
       " 'clase2_script1.ipynb',\n",
       " 'clase2_script2.ipynb',\n",
       " 'data']"
      ]
     },
     "execution_count": 4,
     "metadata": {},
     "output_type": "execute_result"
    }
   ],
   "source": [
    "os.listdir(path)"
   ]
  },
  {
   "cell_type": "markdown",
   "metadata": {},
   "source": [
    "## Carga de datos en memoria\n",
    "\n",
    "Verificando que la ruta de la base de datos es accesible, se procede a cargar los datos en Python mediante el uso de la función `read_csv()` de la librería `pandas`."
   ]
  },
  {
   "cell_type": "code",
   "execution_count": 5,
   "metadata": {},
   "outputs": [],
   "source": [
    "data_path = \"data\\\\razas.txt\"\n",
    "perros_data =  pd.read_csv(data_path, header=0, sep=\"\\s+\")"
   ]
  },
  {
   "cell_type": "markdown",
   "metadata": {},
   "source": [
    "Se verifica que la base de datos haya cargado correctamente imprimiendo su contenido."
   ]
  },
  {
   "cell_type": "code",
   "execution_count": 6,
   "metadata": {},
   "outputs": [
    {
     "name": "stdout",
     "output_type": "stream",
     "text": [
      "    RAZA  TAM  PES  VEL  INT  AFE  AGR  FUN\n",
      "0   bass  peq  liv  len  baj  baj  alt  caz\n",
      "1   beau  gra  med  alt  med  alt  alt  uti\n",
      "2   boxe  med  med  med  med  alt  alt  com\n",
      "3   buld  peq  liv  len  med  alt  baj  com\n",
      "4   bulm  gra  pes  len  alt  baj  alt  uti\n",
      "5   cani  peq  liv  med  alt  alt  baj  com\n",
      "6   chih  peq  liv  len  baj  alt  baj  com\n",
      "7   cock  med  liv  len  med  alt  alt  com\n",
      "8   coll  gra  med  alt  med  alt  baj  com\n",
      "9   dalm  med  med  med  med  alt  baj  com\n",
      "10  dobe  gra  med  alt  alt  baj  alt  uti\n",
      "11  dogo  gra  pes  alt  baj  baj  alt  uti\n",
      "12  foxh  gra  med  alt  baj  baj  alt  caz\n",
      "13  foxt  peq  liv  med  med  alt  alt  com\n",
      "14  galg  gra  med  alt  baj  baj  baj  caz\n",
      "15  gasc  gra  med  med  baj  baj  alt  caz\n",
      "16  labr  med  med  med  med  alt  baj  caz\n",
      "17  masa  gra  med  alt  alt  alt  alt  uti\n",
      "18  mast  gra  pes  len  baj  baj  alt  uti\n",
      "19  peki  peq  liv  len  baj  alt  baj  com\n",
      "20  podb  med  med  med  alt  alt  baj  caz\n",
      "21  podf  gra  med  med  med  baj  baj  caz\n",
      "22  poin  gra  med  alt  alt  baj  baj  caz\n",
      "23  sett  gra  med  alt  med  baj  baj  caz\n",
      "24  stbe  gra  pes  len  med  baj  alt  uti\n",
      "25  teck  peq  liv  len  med  alt  baj  com\n",
      "26  tern  gra  pes  len  med  baj  baj  uti\n"
     ]
    }
   ],
   "source": [
    "print(perros_data)"
   ]
  },
  {
   "cell_type": "markdown",
   "metadata": {},
   "source": [
    "## Creando tablas de frecuencia\n",
    "\n",
    "Como se observa, la base de datos contiene 27 razas de perros y sus características. Es de notar que las variables son cualitativas. Es de importancia conocer el número de razas que hay en cada clasificación de peso, pues sabemos que la variable `PES` contiene esta información clasificada en tres categorías: `liv` para livianos, `med` para peso medio, y `pes` para razas pesadas. La función de `pandas` que nos permite hacer esta operación se llama `crosstab`."
   ]
  },
  {
   "cell_type": "code",
   "execution_count": 7,
   "metadata": {},
   "outputs": [
    {
     "name": "stdout",
     "output_type": "stream",
     "text": [
      "col_0  count\n",
      "PES         \n",
      "liv        8\n",
      "med       14\n",
      "pes        5\n"
     ]
    }
   ],
   "source": [
    "tabla_peso = pd.crosstab(index = perros_data[\"PES\"], columns = \"count\")\n",
    "print(tabla_peso)"
   ]
  },
  {
   "cell_type": "markdown",
   "metadata": {},
   "source": [
    "Si sumamos el total de observaciones por categoría obtenemos el total de datos."
   ]
  },
  {
   "cell_type": "code",
   "execution_count": 8,
   "metadata": {},
   "outputs": [
    {
     "data": {
      "text/plain": [
       "col_0\n",
       "count    27\n",
       "dtype: int64"
      ]
     },
     "execution_count": 8,
     "metadata": {},
     "output_type": "execute_result"
    }
   ],
   "source": [
    "tabla_peso.sum()"
   ]
  },
  {
   "cell_type": "markdown",
   "metadata": {},
   "source": [
    "SI se divide cada valor de la tabla por el total de observaciones se obtiene la frecuencia relativa."
   ]
  },
  {
   "cell_type": "code",
   "execution_count": 9,
   "metadata": {},
   "outputs": [
    {
     "data": {
      "text/html": [
       "<div>\n",
       "<style scoped>\n",
       "    .dataframe tbody tr th:only-of-type {\n",
       "        vertical-align: middle;\n",
       "    }\n",
       "\n",
       "    .dataframe tbody tr th {\n",
       "        vertical-align: top;\n",
       "    }\n",
       "\n",
       "    .dataframe thead th {\n",
       "        text-align: right;\n",
       "    }\n",
       "</style>\n",
       "<table border=\"1\" class=\"dataframe\">\n",
       "  <thead>\n",
       "    <tr style=\"text-align: right;\">\n",
       "      <th>col_0</th>\n",
       "      <th>count</th>\n",
       "    </tr>\n",
       "    <tr>\n",
       "      <th>PES</th>\n",
       "      <th></th>\n",
       "    </tr>\n",
       "  </thead>\n",
       "  <tbody>\n",
       "    <tr>\n",
       "      <th>liv</th>\n",
       "      <td>0.296296</td>\n",
       "    </tr>\n",
       "    <tr>\n",
       "      <th>med</th>\n",
       "      <td>0.518519</td>\n",
       "    </tr>\n",
       "    <tr>\n",
       "      <th>pes</th>\n",
       "      <td>0.185185</td>\n",
       "    </tr>\n",
       "  </tbody>\n",
       "</table>\n",
       "</div>"
      ],
      "text/plain": [
       "col_0     count\n",
       "PES            \n",
       "liv    0.296296\n",
       "med    0.518519\n",
       "pes    0.185185"
      ]
     },
     "execution_count": 9,
     "metadata": {},
     "output_type": "execute_result"
    }
   ],
   "source": [
    "tabla_peso/tabla_peso.sum()"
   ]
  },
  {
   "cell_type": "markdown",
   "metadata": {},
   "source": [
    "Ahora se hacen conteos por dos variables de interés. Esta vez es de interés elaborar una tabla de contingencia entre la variable que mide la agresividad de los perros `AGR` contra su inteligecia `INT`. El resultado se muestra a continuación:"
   ]
  },
  {
   "cell_type": "code",
   "execution_count": 10,
   "metadata": {},
   "outputs": [
    {
     "name": "stdout",
     "output_type": "stream",
     "text": [
      "INT  alt  baj  med\n",
      "AGR               \n",
      "alt    3    5    5\n",
      "baj    3    3    8\n"
     ]
    }
   ],
   "source": [
    "tabla_ag_int = pd.crosstab(index = perros_data[\"AGR\"], columns = perros_data[\"INT\"])\n",
    "print(tabla_ag_int)"
   ]
  },
  {
   "cell_type": "markdown",
   "metadata": {},
   "source": [
    "Se intenta contruir una tabla de frecuencias relativas para la tabla de contingencia. Note que la sumatoria de valores o total **por columna** es 1 (100%)."
   ]
  },
  {
   "cell_type": "code",
   "execution_count": 11,
   "metadata": {},
   "outputs": [
    {
     "data": {
      "text/html": [
       "<div>\n",
       "<style scoped>\n",
       "    .dataframe tbody tr th:only-of-type {\n",
       "        vertical-align: middle;\n",
       "    }\n",
       "\n",
       "    .dataframe tbody tr th {\n",
       "        vertical-align: top;\n",
       "    }\n",
       "\n",
       "    .dataframe thead th {\n",
       "        text-align: right;\n",
       "    }\n",
       "</style>\n",
       "<table border=\"1\" class=\"dataframe\">\n",
       "  <thead>\n",
       "    <tr style=\"text-align: right;\">\n",
       "      <th>INT</th>\n",
       "      <th>alt</th>\n",
       "      <th>baj</th>\n",
       "      <th>med</th>\n",
       "    </tr>\n",
       "    <tr>\n",
       "      <th>AGR</th>\n",
       "      <th></th>\n",
       "      <th></th>\n",
       "      <th></th>\n",
       "    </tr>\n",
       "  </thead>\n",
       "  <tbody>\n",
       "    <tr>\n",
       "      <th>alt</th>\n",
       "      <td>0.5</td>\n",
       "      <td>0.625</td>\n",
       "      <td>0.384615</td>\n",
       "    </tr>\n",
       "    <tr>\n",
       "      <th>baj</th>\n",
       "      <td>0.5</td>\n",
       "      <td>0.375</td>\n",
       "      <td>0.615385</td>\n",
       "    </tr>\n",
       "  </tbody>\n",
       "</table>\n",
       "</div>"
      ],
      "text/plain": [
       "INT  alt    baj       med\n",
       "AGR                      \n",
       "alt  0.5  0.625  0.384615\n",
       "baj  0.5  0.375  0.615385"
      ]
     },
     "execution_count": 11,
     "metadata": {},
     "output_type": "execute_result"
    }
   ],
   "source": [
    "tabla_ag_int/tabla_ag_int.sum() #Note que la agregación se realiza por columnas"
   ]
  },
  {
   "cell_type": "markdown",
   "metadata": {},
   "source": [
    "Para hacer los conteos marginales de las tablas de contingencia, se le agrega la opcion `margins = True`"
   ]
  },
  {
   "cell_type": "code",
   "execution_count": 12,
   "metadata": {},
   "outputs": [],
   "source": [
    "tabla_marginal = pd.crosstab(index = perros_data[\"AGR\"], columns = perros_data[\"INT\"], margins = True)"
   ]
  },
  {
   "cell_type": "markdown",
   "metadata": {},
   "source": [
    "Si se desea generar una tabla de contingencia para tres variables, se agrega la siguiente columna como parámetro y si se desea seleccionar la tabla de contingencia de dos variables para una categoria de la tercera variable se selecciona con corchetes cuadrados y el nombre de la categoría"
   ]
  },
  {
   "cell_type": "code",
   "execution_count": 13,
   "metadata": {},
   "outputs": [
    {
     "data": {
      "text/html": [
       "<div>\n",
       "<style scoped>\n",
       "    .dataframe tbody tr th:only-of-type {\n",
       "        vertical-align: middle;\n",
       "    }\n",
       "\n",
       "    .dataframe tbody tr th {\n",
       "        vertical-align: top;\n",
       "    }\n",
       "\n",
       "    .dataframe thead tr th {\n",
       "        text-align: left;\n",
       "    }\n",
       "\n",
       "    .dataframe thead tr:last-of-type th {\n",
       "        text-align: right;\n",
       "    }\n",
       "</style>\n",
       "<table border=\"1\" class=\"dataframe\">\n",
       "  <thead>\n",
       "    <tr>\n",
       "      <th>INT</th>\n",
       "      <th colspan=\"3\" halign=\"left\">alt</th>\n",
       "      <th colspan=\"3\" halign=\"left\">baj</th>\n",
       "      <th colspan=\"3\" halign=\"left\">med</th>\n",
       "      <th>All</th>\n",
       "    </tr>\n",
       "    <tr>\n",
       "      <th>FUN</th>\n",
       "      <th>caz</th>\n",
       "      <th>com</th>\n",
       "      <th>uti</th>\n",
       "      <th>caz</th>\n",
       "      <th>com</th>\n",
       "      <th>uti</th>\n",
       "      <th>caz</th>\n",
       "      <th>com</th>\n",
       "      <th>uti</th>\n",
       "      <th></th>\n",
       "    </tr>\n",
       "    <tr>\n",
       "      <th>AGR</th>\n",
       "      <th></th>\n",
       "      <th></th>\n",
       "      <th></th>\n",
       "      <th></th>\n",
       "      <th></th>\n",
       "      <th></th>\n",
       "      <th></th>\n",
       "      <th></th>\n",
       "      <th></th>\n",
       "      <th></th>\n",
       "    </tr>\n",
       "  </thead>\n",
       "  <tbody>\n",
       "    <tr>\n",
       "      <th>alt</th>\n",
       "      <td>0</td>\n",
       "      <td>0</td>\n",
       "      <td>3</td>\n",
       "      <td>3</td>\n",
       "      <td>0</td>\n",
       "      <td>2</td>\n",
       "      <td>0</td>\n",
       "      <td>3</td>\n",
       "      <td>2</td>\n",
       "      <td>13</td>\n",
       "    </tr>\n",
       "    <tr>\n",
       "      <th>baj</th>\n",
       "      <td>2</td>\n",
       "      <td>1</td>\n",
       "      <td>0</td>\n",
       "      <td>1</td>\n",
       "      <td>2</td>\n",
       "      <td>0</td>\n",
       "      <td>3</td>\n",
       "      <td>4</td>\n",
       "      <td>1</td>\n",
       "      <td>14</td>\n",
       "    </tr>\n",
       "    <tr>\n",
       "      <th>All</th>\n",
       "      <td>2</td>\n",
       "      <td>1</td>\n",
       "      <td>3</td>\n",
       "      <td>4</td>\n",
       "      <td>2</td>\n",
       "      <td>2</td>\n",
       "      <td>3</td>\n",
       "      <td>7</td>\n",
       "      <td>3</td>\n",
       "      <td>27</td>\n",
       "    </tr>\n",
       "  </tbody>\n",
       "</table>\n",
       "</div>"
      ],
      "text/plain": [
       "INT alt         baj         med         All\n",
       "FUN caz com uti caz com uti caz com uti    \n",
       "AGR                                        \n",
       "alt   0   0   3   3   0   2   0   3   2  13\n",
       "baj   2   1   0   1   2   0   3   4   1  14\n",
       "All   2   1   3   4   2   2   3   7   3  27"
      ]
     },
     "execution_count": 13,
     "metadata": {},
     "output_type": "execute_result"
    }
   ],
   "source": [
    "tabla_marginal1 = pd.crosstab(index = perros_data[\"AGR\"], columns = [perros_data[\"INT\"],perros_data[\"FUN\"]], margins = True)\n",
    "tabla_marginal1"
   ]
  },
  {
   "cell_type": "code",
   "execution_count": 14,
   "metadata": {},
   "outputs": [
    {
     "data": {
      "text/html": [
       "<div>\n",
       "<style scoped>\n",
       "    .dataframe tbody tr th:only-of-type {\n",
       "        vertical-align: middle;\n",
       "    }\n",
       "\n",
       "    .dataframe tbody tr th {\n",
       "        vertical-align: top;\n",
       "    }\n",
       "\n",
       "    .dataframe thead th {\n",
       "        text-align: right;\n",
       "    }\n",
       "</style>\n",
       "<table border=\"1\" class=\"dataframe\">\n",
       "  <thead>\n",
       "    <tr style=\"text-align: right;\">\n",
       "      <th>FUN</th>\n",
       "      <th>caz</th>\n",
       "      <th>com</th>\n",
       "      <th>uti</th>\n",
       "    </tr>\n",
       "    <tr>\n",
       "      <th>AGR</th>\n",
       "      <th></th>\n",
       "      <th></th>\n",
       "      <th></th>\n",
       "    </tr>\n",
       "  </thead>\n",
       "  <tbody>\n",
       "    <tr>\n",
       "      <th>alt</th>\n",
       "      <td>3</td>\n",
       "      <td>0</td>\n",
       "      <td>2</td>\n",
       "    </tr>\n",
       "    <tr>\n",
       "      <th>baj</th>\n",
       "      <td>1</td>\n",
       "      <td>2</td>\n",
       "      <td>0</td>\n",
       "    </tr>\n",
       "    <tr>\n",
       "      <th>All</th>\n",
       "      <td>4</td>\n",
       "      <td>2</td>\n",
       "      <td>2</td>\n",
       "    </tr>\n",
       "  </tbody>\n",
       "</table>\n",
       "</div>"
      ],
      "text/plain": [
       "FUN  caz  com  uti\n",
       "AGR               \n",
       "alt    3    0    2\n",
       "baj    1    2    0\n",
       "All    4    2    2"
      ]
     },
     "execution_count": 14,
     "metadata": {},
     "output_type": "execute_result"
    }
   ],
   "source": [
    "tabla_marginal1[\"baj\"]"
   ]
  }
 ],
 "metadata": {
  "kernelspec": {
   "display_name": "Python 3",
   "language": "python",
   "name": "python3"
  },
  "language_info": {
   "codemirror_mode": {
    "name": "ipython",
    "version": 3
   },
   "file_extension": ".py",
   "mimetype": "text/x-python",
   "name": "python",
   "nbconvert_exporter": "python",
   "pygments_lexer": "ipython3",
   "version": "3.6.4"
  }
 },
 "nbformat": 4,
 "nbformat_minor": 2
}
