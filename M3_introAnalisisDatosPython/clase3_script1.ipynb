{
 "cells": [
  {
   "cell_type": "markdown",
   "metadata": {},
   "source": [
    "# Clase #2 (script 2)\n",
    "\n",
    "En este script se ejecutan procedimientos de carga de librerías, carga de datos y generación de tablas de frecuencias. Para este ejemplo se utilizará una base de datos llamada blood.txt la cual contiene información sobre la edad y presión sanguinea de 30 personas.\n",
    "\n",
    "Se inicia con la carga de librerías."
   ]
  },
  {
   "cell_type": "code",
   "execution_count": 1,
   "metadata": {},
   "outputs": [],
   "source": [
    "import numpy as np\n",
    "import scipy.stats as st\n",
    "import pandas as pd\n",
    "import os"
   ]
  },
  {
   "cell_type": "markdown",
   "metadata": {},
   "source": [
    "Este script supone que el directorio donde se encuentra almacenado es C:. Si no es así, recuerde cambiar el valor de la variable path para que corresponda con la ubicación del script, y este se encuentre a la misma altura que la carpeta que la carpeta data. La carpeta data contiene la base de datos blood.txt."
   ]
  },
  {
   "cell_type": "code",
   "execution_count": 2,
   "metadata": {},
   "outputs": [
    {
     "data": {
      "text/plain": [
       "['.ipynb_checkpoints', 'clase3_script1.ipynb', 'data', 'script1.py']"
      ]
     },
     "execution_count": 2,
     "metadata": {},
     "output_type": "execute_result"
    }
   ],
   "source": [
    "os.getcwd()\n",
    "path = \"C:/Users/tic.tank/Documents/Miguel Orjuela/dcd_clase3\"\n",
    "os.chdir(path)\n",
    "os.listdir(path)"
   ]
  },
  {
   "cell_type": "markdown",
   "metadata": {},
   "source": [
    "## Estimación puntual\n",
    "\n",
    "Se carga el archivo `data_blood.txt` mediante el método read_csv de la librería `pandas`. También se generan medias numéricas de resumen con la función `describe()`."
   ]
  },
  {
   "cell_type": "code",
   "execution_count": 3,
   "metadata": {},
   "outputs": [
    {
     "name": "stdout",
     "output_type": "stream",
     "text": [
      "          Indice   Uno       Edad  Presión Sangre\n",
      "count  30.000000  30.0  30.000000       30.000000\n",
      "mean   15.500000   1.0  45.133333      142.533333\n",
      "std     8.803408   0.0  15.294203       22.581245\n",
      "min     1.000000   1.0  17.000000      110.000000\n",
      "25%     8.250000   1.0  36.750000      125.750000\n",
      "50%    15.500000   1.0  45.500000      141.000000\n",
      "75%    22.750000   1.0  56.000000      157.000000\n",
      "max    30.000000   1.0  69.000000      220.000000\n"
     ]
    }
   ],
   "source": [
    "filename = \"data/data_blood.txt\"\n",
    "datos = pd.read_csv(filename, header = None, sep = \"\\s+\", names = [u'Indice', u'Uno', u'Edad', u'Presión Sangre'])\n",
    "print(datos.describe())"
   ]
  },
  {
   "cell_type": "markdown",
   "metadata": {},
   "source": [
    "A partir del dataset `datos` se genera la serie `datosPresion` y se generan descriptivos únicamente para esta variable."
   ]
  },
  {
   "cell_type": "code",
   "execution_count": 4,
   "metadata": {},
   "outputs": [
    {
     "name": "stdout",
     "output_type": "stream",
     "text": [
      "count     30.000000\n",
      "mean     142.533333\n",
      "std       22.581245\n",
      "min      110.000000\n",
      "25%      125.750000\n",
      "50%      141.000000\n",
      "75%      157.000000\n",
      "max      220.000000\n",
      "Name: Presión Sangre, dtype: float64\n"
     ]
    }
   ],
   "source": [
    "datosPresion = datos[u'Presión Sangre']\n",
    "ser = pd.Series(datosPresion)\n",
    "print(ser.describe())"
   ]
  },
  {
   "cell_type": "code",
   "execution_count": 5,
   "metadata": {},
   "outputs": [
    {
     "name": "stdout",
     "output_type": "stream",
     "text": [
      "n:  30\n",
      "media:  142.53333333333333\n",
      "desv estandar (n) :  22.201701636486234\n",
      "desv estandar (n-1) :  22.581245396969603\n"
     ]
    }
   ],
   "source": [
    "n = len(datosPresion)\n",
    "print(\"n: \", n)\n",
    "print(\"media: \", np.mean(datosPresion))\n",
    "print(\"desv estandar (n) : \", np.std(datosPresion))\n",
    "print(\"desv estandar (n-1) : \", np.std(datosPresion, ddof = 1))"
   ]
  },
  {
   "cell_type": "markdown",
   "metadata": {},
   "source": [
    "## Estimación por intervalos de confianza\n",
    "\n",
    "Se utiliza el método `t.interval()` de la librería `scipy.stats`. De acuerdo a la documentación del método, el primer parámetro es la confianza, o la probabilidad deseada de que la media caiga en ese intervalo; `len(datosPresion)-1` define los grados de libertad de la distribución; `loc` indica la media muestral, a la cual asignamos el valor de `np.mean(datosPresion)`); y `scale` es el parámetro del error estándar de la media, calculado con el método `st.sem(datosPresion)`.\n",
    "\n",
    "Como observación adicional, es importante recordar que el error estándar de la media se calcula de la siguiente forma:\n",
    "$$SEM = \\frac{\\sigma}{\\sqrt{n}}$$\n"
   ]
  },
  {
   "cell_type": "code",
   "execution_count": 6,
   "metadata": {},
   "outputs": [
    {
     "name": "stdout",
     "output_type": "stream",
     "text": [
      "(134.1013577264643, 150.96530894020236)\n"
     ]
    }
   ],
   "source": [
    "import numpy as np\n",
    "import scipy.stats as st\n",
    "\n",
    "intervalo = st.t.interval(0.95, len(datosPresion)-1,loc = np.mean(datosPresion), scale = st.sem(datosPresion))\n",
    "print(intervalo)"
   ]
  },
  {
   "cell_type": "markdown",
   "metadata": {},
   "source": [
    "El resultado obtenido indica que con una probabilidad del 95%, la la media poblacional de la presión arterial se encuentra entre los valores 134.1013577264643 y 150.96530894020236.\n",
    "\n",
    "Una alternativa para calcular este intervalo es mediante la librería `statsmodels.stats.api`, como se ilustra a continuación."
   ]
  },
  {
   "cell_type": "code",
   "execution_count": 7,
   "metadata": {},
   "outputs": [
    {
     "name": "stdout",
     "output_type": "stream",
     "text": [
      "(134.10135772646427, 150.9653089402024)\n"
     ]
    },
    {
     "name": "stderr",
     "output_type": "stream",
     "text": [
      "C:\\Users\\tic.tank\\AppData\\Local\\Continuum\\anaconda3\\lib\\site-packages\\statsmodels\\compat\\pandas.py:56: FutureWarning: The pandas.core.datetools module is deprecated and will be removed in a future version. Please use the pandas.tseries module instead.\n",
      "  from pandas.core import datetools\n"
     ]
    }
   ],
   "source": [
    "import statsmodels.stats.api as sms\n",
    "intervalo = sms.DescrStatsW(datosPresion).tconfint_mean(0.05)\n",
    "print(intervalo)"
   ]
  }
 ],
 "metadata": {
  "kernelspec": {
   "display_name": "Python 3",
   "language": "python",
   "name": "python3"
  },
  "language_info": {
   "codemirror_mode": {
    "name": "ipython",
    "version": 3
   },
   "file_extension": ".py",
   "mimetype": "text/x-python",
   "name": "python",
   "nbconvert_exporter": "python",
   "pygments_lexer": "ipython3",
   "version": "3.6.4"
  }
 },
 "nbformat": 4,
 "nbformat_minor": 2
}
