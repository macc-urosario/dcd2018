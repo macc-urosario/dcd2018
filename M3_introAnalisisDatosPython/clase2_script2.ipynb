{
 "cells": [
  {
   "cell_type": "markdown",
   "metadata": {},
   "source": [
    "# Clase #2 (script 2)\n",
    "\n",
    "En este script se ejecutan procedimientos de carga de librerías, carga de datos y generación de tablas de frecuencias. Para este ejemplo se utilizará una base de datos llamada `blood.txt` la cual contiene información sobre la edad y presión sanguinea de 30 personas.\n",
    "\n",
    "Este script supone que el directorio donde se encuentra almacenado es C:\\. Si no es así, recuerde cambiar el valor de la variable path para que corresponda con la ubicación del script, y este se encuentre a la misma altura que la carpeta que la carpeta data. La carpeta `data` contiene la base de datos `blood.txt`.\n",
    "\n",
    "Se inicia con la carga de librerías"
   ]
  },
  {
   "cell_type": "code",
   "execution_count": 1,
   "metadata": {},
   "outputs": [],
   "source": [
    "import pandas as pd\n",
    "import numpy as np\n",
    "import os\n",
    "from scipy import stats\n",
    "import matplotlib.pyplot as plt\n",
    "%matplotlib inline "
   ]
  },
  {
   "cell_type": "markdown",
   "metadata": {},
   "source": [
    "## Cambiando el valor de la variable `path`\n",
    "\n",
    "El comando `os.getcwd()` retorna la ruta donde se encuentra el directorio de trabajo actual."
   ]
  },
  {
   "cell_type": "code",
   "execution_count": 2,
   "metadata": {},
   "outputs": [
    {
     "data": {
      "text/plain": [
       "'C:\\\\Users\\\\maorj\\\\Documents\\\\Miguel Orjuela\\\\dcd clase2-20181019T051430Z-001\\\\dcd clase2'"
      ]
     },
     "execution_count": 2,
     "metadata": {},
     "output_type": "execute_result"
    }
   ],
   "source": [
    "os.getcwd()"
   ]
  },
  {
   "cell_type": "markdown",
   "metadata": {},
   "source": [
    "Las siguientes instrucciones cambian la ruta del directorio de trabajo actual a la que se especifica en la variable `path`."
   ]
  },
  {
   "cell_type": "code",
   "execution_count": 3,
   "metadata": {},
   "outputs": [],
   "source": [
    "path = \"C:\\\\dcd2018\"\n",
    "os.chdir(path)"
   ]
  },
  {
   "cell_type": "markdown",
   "metadata": {},
   "source": [
    "El comando `os.listdir(path)` muestra los archivos que se encuentran dentro de la ruta que entra como parámetro."
   ]
  },
  {
   "cell_type": "code",
   "execution_count": 4,
   "metadata": {},
   "outputs": [
    {
     "data": {
      "text/plain": [
       "['.ipynb_checkpoints',\n",
       " 'clase2 ex1.py',\n",
       " 'clase2 ex2.py',\n",
       " 'clase2_script1.ipynb',\n",
       " 'clase2_script2.ipynb',\n",
       " 'data']"
      ]
     },
     "execution_count": 4,
     "metadata": {},
     "output_type": "execute_result"
    }
   ],
   "source": [
    "os.listdir(path)"
   ]
  },
  {
   "cell_type": "markdown",
   "metadata": {},
   "source": [
    "## Carga de datos en memoria\n",
    "\n",
    "Verificando que la ruta de la base de datos es accesible, se procede a cargar los datos en Python mediante el uso de la función `read_csv()` de la librería `pandas`."
   ]
  },
  {
   "cell_type": "code",
   "execution_count": 5,
   "metadata": {},
   "outputs": [],
   "source": [
    "data_path = \"data\\\\blood.txt\"\n",
    "datos = pd.read_csv(data_path, header = None, sep=\"\\s+\", names = [u'Indice',u'Uno',u'Edad',u'Presión Sangre'])"
   ]
  },
  {
   "cell_type": "markdown",
   "metadata": {},
   "source": [
    "Se verifica que la base de datos haya cargado correctamente imprimiendo su contenido."
   ]
  },
  {
   "cell_type": "code",
   "execution_count": 6,
   "metadata": {},
   "outputs": [
    {
     "name": "stdout",
     "output_type": "stream",
     "text": [
      "    Indice  Uno  Edad  Presión Sangre\n",
      "0        1    1    39             144\n",
      "1        2    1    47             220\n",
      "2        3    1    45             138\n",
      "3        4    1    47             145\n",
      "4        5    1    65             162\n",
      "5        6    1    46             142\n",
      "6        7    1    67             170\n",
      "7        8    1    42             124\n",
      "8        9    1    67             158\n",
      "9       10    1    56             154\n",
      "10      11    1    64             162\n",
      "11      12    1    56             150\n",
      "12      13    1    59             140\n",
      "13      14    1    34             110\n",
      "14      15    1    42             128\n",
      "15      16    1    48             130\n",
      "16      17    1    45             135\n",
      "17      18    1    17             114\n",
      "18      19    1    20             116\n",
      "19      20    1    19             124\n",
      "20      21    1    36             136\n",
      "21      22    1    50             142\n",
      "22      23    1    39             120\n",
      "23      24    1    21             120\n",
      "24      25    1    44             160\n",
      "25      26    1    53             158\n",
      "26      27    1    63             144\n",
      "27      28    1    29             130\n",
      "28      29    1    25             125\n",
      "29      30    1    69             175\n"
     ]
    }
   ],
   "source": [
    "print(datos)"
   ]
  },
  {
   "cell_type": "markdown",
   "metadata": {},
   "source": [
    "A continuación se obtendrá un arreglo con todas las edades de las observaciones:"
   ]
  },
  {
   "cell_type": "code",
   "execution_count": 7,
   "metadata": {},
   "outputs": [
    {
     "data": {
      "text/plain": [
       "0     39\n",
       "1     47\n",
       "2     45\n",
       "3     47\n",
       "4     65\n",
       "5     46\n",
       "6     67\n",
       "7     42\n",
       "8     67\n",
       "9     56\n",
       "10    64\n",
       "11    56\n",
       "12    59\n",
       "13    34\n",
       "14    42\n",
       "15    48\n",
       "16    45\n",
       "17    17\n",
       "18    20\n",
       "19    19\n",
       "20    36\n",
       "21    50\n",
       "22    39\n",
       "23    21\n",
       "24    44\n",
       "25    53\n",
       "26    63\n",
       "27    29\n",
       "28    25\n",
       "29    69\n",
       "Name: Edad, dtype: int64"
      ]
     },
     "execution_count": 7,
     "metadata": {},
     "output_type": "execute_result"
    }
   ],
   "source": [
    "datos[\"Edad\"]"
   ]
  },
  {
   "cell_type": "markdown",
   "metadata": {},
   "source": [
    "## Cálculo de medidas de resumen\n",
    "\n",
    "### Tendencia central"
   ]
  },
  {
   "cell_type": "code",
   "execution_count": 8,
   "metadata": {},
   "outputs": [
    {
     "name": "stdout",
     "output_type": "stream",
     "text": [
      "Media:  45.13333333333333\n",
      "Mediana:  45.5\n",
      "Moda:  ModeResult(mode=array([39], dtype=int64), count=array([2]))\n"
     ]
    }
   ],
   "source": [
    "# Media\n",
    "print(\"Media: \", np.mean(datos[\"Edad\"]))\n",
    "# Mediana\n",
    "print(\"Mediana: \", np.median(datos[\"Edad\"]))\n",
    "# Moda\n",
    "print(\"Moda: \", stats.mode(datos[\"Edad\"]))"
   ]
  },
  {
   "cell_type": "markdown",
   "metadata": {},
   "source": [
    "### Dispersión/Variabilidad"
   ]
  },
  {
   "cell_type": "code",
   "execution_count": 9,
   "metadata": {},
   "outputs": [
    {
     "name": "stdout",
     "output_type": "stream",
     "text": [
      "Máximo:  69\n",
      "Mínimo:  17\n",
      "Rango:  52\n",
      "Desviación estándar:  15.037139207826586\n",
      "Coeficiente de variación:  0.333171474324075\n"
     ]
    }
   ],
   "source": [
    "print(\"Máximo: \", np.max(datos[\"Edad\"]))\n",
    "print(\"Mínimo: \", np.min(datos[\"Edad\"]))\n",
    "print(\"Rango: \", np.max(datos[\"Edad\"]) - np.min(datos[\"Edad\"]))\n",
    "print(\"Desviación estándar: \", np.std(datos[\"Edad\"]))\n",
    "print(\"Coeficiente de variación: \", np.std(datos[\"Edad\"])/np.mean(datos[\"Edad\"]))"
   ]
  },
  {
   "cell_type": "markdown",
   "metadata": {},
   "source": [
    "Para calcular qué tanto varía una variable con respecto a otra se puede calcular su coeficiente de correlación y también comparar gráficamente. En este caso se comparará qué tan dependientes son las variables `Edad` y `Presión Sangre`."
   ]
  },
  {
   "cell_type": "code",
   "execution_count": 10,
   "metadata": {},
   "outputs": [
    {
     "name": "stdout",
     "output_type": "stream",
     "text": [
      "[[1.         0.65756728]\n",
      " [0.65756728 1.        ]]\n"
     ]
    }
   ],
   "source": [
    "# Coeficiente de correlación de Pearson\n",
    "print(np.corrcoef(datos[\"Edad\"], datos[\"Presión Sangre\"]))"
   ]
  },
  {
   "cell_type": "markdown",
   "metadata": {},
   "source": [
    "El coeficiente de correlación toma valores entre -1 y 1, indicado estos valores extremos que los datos están fuertemente correlacionados. Cuando el coeficiente es positivo indica que cuando una variable crece la otra disminuye. Cuando el coeficiente es negativo indica que una variable decrece cuando la otra aumenta. Cuando las variables a analizar son independientes, su coeficiente de correlación es cero (el reciproco de esta propiedad no es válido).\n",
    "\n",
    "En el siguiente gráfico se observa que hay uan relación entre las dos variables graficadas, es decir, cuando la edad aumenta, la presión sanguínea aumenta también. Esto también se concluye al revisar que el coeficiente de correlación entre estas dos variables fue de 0.65756728."
   ]
  },
  {
   "cell_type": "code",
   "execution_count": 11,
   "metadata": {},
   "outputs": [
    {
     "data": {
      "text/plain": [
       "<matplotlib.collections.PathCollection at 0x2e35211a358>"
      ]
     },
     "execution_count": 11,
     "metadata": {},
     "output_type": "execute_result"
    },
    {
     "data": {
      "image/png": "[encoded data removed]",
      "text/plain": [
       "<matplotlib.figure.Figure at 0x2e33fc74be0>"
      ]
     },
     "metadata": {},
     "output_type": "display_data"
    }
   ],
   "source": [
    "plt.scatter(datos[\"Edad\"], datos[\"Presión Sangre\"])"
   ]
  },
  {
   "cell_type": "markdown",
   "metadata": {},
   "source": [
    "### Localización"
   ]
  },
  {
   "cell_type": "code",
   "execution_count": 12,
   "metadata": {},
   "outputs": [
    {
     "name": "stdout",
     "output_type": "stream",
     "text": [
      "Primer cuartil:  36.75\n",
      "Segundo cuartil (mediana):  45.5\n",
      "Tercer cuartil:  56.0\n"
     ]
    }
   ],
   "source": [
    "print(\"Primer cuartil: \", np.percentile(datos[\"Edad\"], 25)) # Percentil 25 o primer cuartil\n",
    "print(\"Segundo cuartil (mediana): \", np.percentile(datos[\"Edad\"], 50)) # Percentil 50 o segundo cuartil\n",
    "print(\"Tercer cuartil: \", np.percentile(datos[\"Edad\"], 75)) # Percentil 75 o tercer cuartil"
   ]
  },
  {
   "cell_type": "markdown",
   "metadata": {},
   "source": [
    "El gráfico de cajas y bigotes representa las medidas de posición principales de los datos y permite además detectar datos atípicos."
   ]
  },
  {
   "cell_type": "code",
   "execution_count": 13,
   "metadata": {},
   "outputs": [
    {
     "data": {
      "text/plain": [
       "{'boxes': [<matplotlib.lines.Line2D at 0x2e353179b38>],\n",
       " 'caps': [<matplotlib.lines.Line2D at 0x2e353183588>,\n",
       "  <matplotlib.lines.Line2D at 0x2e3531839b0>],\n",
       " 'fliers': [<matplotlib.lines.Line2D at 0x2e35318d240>],\n",
       " 'means': [],\n",
       " 'medians': [<matplotlib.lines.Line2D at 0x2e353183dd8>],\n",
       " 'whiskers': [<matplotlib.lines.Line2D at 0x2e353179c88>,\n",
       "  <matplotlib.lines.Line2D at 0x2e353183160>]}"
      ]
     },
     "execution_count": 13,
     "metadata": {},
     "output_type": "execute_result"
    },
    {
     "data": {
      "image/png": "[encoded data removed]",
      "text/plain": [
       "<matplotlib.figure.Figure at 0x2e3500a69b0>"
      ]
     },
     "metadata": {},
     "output_type": "display_data"
    }
   ],
   "source": [
    "plt.boxplot(datos[\"Presión Sangre\"])"
   ]
  },
  {
   "cell_type": "markdown",
   "metadata": {},
   "source": [
    "El comando `describe()` resume el conjunto de datos por variable sacando los descriptivos más frecuentemente empleados."
   ]
  },
  {
   "cell_type": "code",
   "execution_count": 14,
   "metadata": {},
   "outputs": [
    {
     "data": {
      "text/html": [
       "<div>\n",
       "<style scoped>\n",
       "    .dataframe tbody tr th:only-of-type {\n",
       "        vertical-align: middle;\n",
       "    }\n",
       "\n",
       "    .dataframe tbody tr th {\n",
       "        vertical-align: top;\n",
       "    }\n",
       "\n",
       "    .dataframe thead th {\n",
       "        text-align: right;\n",
       "    }\n",
       "</style>\n",
       "<table border=\"1\" class=\"dataframe\">\n",
       "  <thead>\n",
       "    <tr style=\"text-align: right;\">\n",
       "      <th></th>\n",
       "      <th>Indice</th>\n",
       "      <th>Uno</th>\n",
       "      <th>Edad</th>\n",
       "      <th>Presión Sangre</th>\n",
       "    </tr>\n",
       "  </thead>\n",
       "  <tbody>\n",
       "    <tr>\n",
       "      <th>count</th>\n",
       "      <td>30.000000</td>\n",
       "      <td>30.0</td>\n",
       "      <td>30.000000</td>\n",
       "      <td>30.000000</td>\n",
       "    </tr>\n",
       "    <tr>\n",
       "      <th>mean</th>\n",
       "      <td>15.500000</td>\n",
       "      <td>1.0</td>\n",
       "      <td>45.133333</td>\n",
       "      <td>142.533333</td>\n",
       "    </tr>\n",
       "    <tr>\n",
       "      <th>std</th>\n",
       "      <td>8.803408</td>\n",
       "      <td>0.0</td>\n",
       "      <td>15.294203</td>\n",
       "      <td>22.581245</td>\n",
       "    </tr>\n",
       "    <tr>\n",
       "      <th>min</th>\n",
       "      <td>1.000000</td>\n",
       "      <td>1.0</td>\n",
       "      <td>17.000000</td>\n",
       "      <td>110.000000</td>\n",
       "    </tr>\n",
       "    <tr>\n",
       "      <th>25%</th>\n",
       "      <td>8.250000</td>\n",
       "      <td>1.0</td>\n",
       "      <td>36.750000</td>\n",
       "      <td>125.750000</td>\n",
       "    </tr>\n",
       "    <tr>\n",
       "      <th>50%</th>\n",
       "      <td>15.500000</td>\n",
       "      <td>1.0</td>\n",
       "      <td>45.500000</td>\n",
       "      <td>141.000000</td>\n",
       "    </tr>\n",
       "    <tr>\n",
       "      <th>75%</th>\n",
       "      <td>22.750000</td>\n",
       "      <td>1.0</td>\n",
       "      <td>56.000000</td>\n",
       "      <td>157.000000</td>\n",
       "    </tr>\n",
       "    <tr>\n",
       "      <th>max</th>\n",
       "      <td>30.000000</td>\n",
       "      <td>1.0</td>\n",
       "      <td>69.000000</td>\n",
       "      <td>220.000000</td>\n",
       "    </tr>\n",
       "  </tbody>\n",
       "</table>\n",
       "</div>"
      ],
      "text/plain": [
       "          Indice   Uno       Edad  Presión Sangre\n",
       "count  30.000000  30.0  30.000000       30.000000\n",
       "mean   15.500000   1.0  45.133333      142.533333\n",
       "std     8.803408   0.0  15.294203       22.581245\n",
       "min     1.000000   1.0  17.000000      110.000000\n",
       "25%     8.250000   1.0  36.750000      125.750000\n",
       "50%    15.500000   1.0  45.500000      141.000000\n",
       "75%    22.750000   1.0  56.000000      157.000000\n",
       "max    30.000000   1.0  69.000000      220.000000"
      ]
     },
     "execution_count": 14,
     "metadata": {},
     "output_type": "execute_result"
    }
   ],
   "source": [
    "# Describe\n",
    "datos.describe()"
   ]
  },
  {
   "cell_type": "code",
   "execution_count": null,
   "metadata": {},
   "outputs": [],
   "source": []
  }
 ],
 "metadata": {
  "kernelspec": {
   "display_name": "Python 3",
   "language": "python",
   "name": "python3"
  },
  "language_info": {
   "codemirror_mode": {
    "name": "ipython",
    "version": 3
   },
   "file_extension": ".py",
   "mimetype": "text/x-python",
   "name": "python",
   "nbconvert_exporter": "python",
   "pygments_lexer": "ipython3",
   "version": "3.6.4"
  }
 },
 "nbformat": 4,
 "nbformat_minor": 2
}
